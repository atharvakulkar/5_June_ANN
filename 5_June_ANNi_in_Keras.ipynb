{
  "nbformat": 4,
  "nbformat_minor": 0,
  "metadata": {
    "colab": {
      "provenance": []
    },
    "kernelspec": {
      "name": "python3",
      "display_name": "Python 3"
    },
    "language_info": {
      "name": "python"
    }
  },
  "cells": [
    {
      "cell_type": "code",
      "execution_count": 2,
      "metadata": {
        "colab": {
          "base_uri": "https://localhost:8080/"
        },
        "id": "1RaCvSDk8rqt",
        "outputId": "96d1f877-242a-4d1c-8f0f-ed8c618e50dd"
      },
      "outputs": [
        {
          "output_type": "stream",
          "name": "stdout",
          "text": [
            "2.15.0\n",
            "2.15.0\n"
          ]
        }
      ],
      "source": [
        "##Q1. Install and load the latest versions of TensorFlow and Keras. Print their versions.\n",
        "import tensorflow as tf\n",
        "import keras\n",
        "print(tf.__version__)\n",
        "print(keras.__version__)"
      ]
    },
    {
      "cell_type": "code",
      "source": [
        "##Q2. Load the Wine Quality dataset and explore its dimensions.\n",
        "import pandas as pd\n",
        "\n",
        "# Load the dataset (replace 'path_to_wine_quality_dataset.csv' with the actual path or URL)\n",
        "dataset_url = 'wine1.csv'\n",
        "wine_data = pd.read_csv(dataset_url)\n",
        "\n",
        "# Explore the dimensions of the dataset\n",
        "print(f\"Dataset dimensions: {wine_data.shape}\")\n"
      ],
      "metadata": {
        "colab": {
          "base_uri": "https://localhost:8080/"
        },
        "id": "3sYpVbyv84Ly",
        "outputId": "5c1fcedb-5c09-4417-dad2-8e415b39b24c"
      },
      "execution_count": 27,
      "outputs": [
        {
          "output_type": "stream",
          "name": "stdout",
          "text": [
            "Dataset dimensions: (1599, 12)\n"
          ]
        }
      ]
    },
    {
      "cell_type": "code",
      "source": [
        "##Q3. Check for null values, identify categorical variables, and encode them.\n",
        "# Check for null values\n",
        "null_values = wine_data.isnull().sum()\n",
        "print(f\"Null values in each column:\\n{null_values}\")\n",
        "\n",
        "# Identify categorical variables (if any)\n",
        "categorical_cols = wine_data.select_dtypes(include=['object']).columns\n",
        "print(f\"Categorical columns: {categorical_cols}\")\n",
        "\n",
        "# Encode categorical variables if they exist\n",
        "if len(categorical_cols) > 0:\n",
        "    wine_data = pd.get_dummies(wine_data, columns=categorical_cols, drop_first=True)\n",
        "\n"
      ],
      "metadata": {
        "colab": {
          "base_uri": "https://localhost:8080/"
        },
        "id": "JV7XcIw_9Rcn",
        "outputId": "db7a2651-f595-47dc-9e22-6f469ef99667"
      },
      "execution_count": 28,
      "outputs": [
        {
          "output_type": "stream",
          "name": "stdout",
          "text": [
            "Null values in each column:\n",
            "fixed acidity           0\n",
            "volatile acidity        0\n",
            "citric acid             0\n",
            "residual sugar          0\n",
            "chlorides               0\n",
            "free sulfur dioxide     0\n",
            "total sulfur dioxide    0\n",
            "density                 0\n",
            "pH                      0\n",
            "sulphates               0\n",
            "alcohol                 0\n",
            "quality                 0\n",
            "dtype: int64\n",
            "Categorical columns: Index(['quality'], dtype='object')\n"
          ]
        }
      ]
    },
    {
      "cell_type": "code",
      "source": [
        "##Q4. Separate the features and target variables from the dataset.\n",
        "X = wine_data.drop(columns=['density'])\n",
        "y = wine_data['density']\n",
        "\n",
        "print(\"Features shape:\", X.shape)\n",
        "print(\"Target shape:\", y.shape)\n",
        "\n"
      ],
      "metadata": {
        "colab": {
          "base_uri": "https://localhost:8080/"
        },
        "id": "1eudui7V-Rco",
        "outputId": "6789d8cf-dd5a-4ef9-85ae-41c404d59bde"
      },
      "execution_count": 50,
      "outputs": [
        {
          "output_type": "stream",
          "name": "stdout",
          "text": [
            "Features shape: (1599, 11)\n",
            "Target shape: (1599,)\n"
          ]
        }
      ]
    },
    {
      "cell_type": "code",
      "source": [
        "##Q5. Perform a train-test split, dividing the data into training, validation, and test datasets\n",
        "from sklearn.model_selection import train_test_split\n",
        "\n",
        "X_train, X_val, y_train, y_val = train_test_split(X, y, test_size=0.2, random_state=42)\n",
        "X_val, X_test, y_val, y_test = train_test_split(X_val, y_val, test_size=0.5, random_state=42)\n",
        "\n",
        "print(\"Training set shape:\", X_train.shape, y_train.shape)\n",
        "print(\"Validation set shape:\", X_val.shape, y_val.shape)\n",
        "print(\"Test set shape:\", X_test.shape, y_test.shape)"
      ],
      "metadata": {
        "colab": {
          "base_uri": "https://localhost:8080/"
        },
        "id": "GyEeQuYr-sJ4",
        "outputId": "1edc6558-9dba-453a-ba58-f0772e48ac41"
      },
      "execution_count": 51,
      "outputs": [
        {
          "output_type": "stream",
          "name": "stdout",
          "text": [
            "Training set shape: (1279, 11) (1279,)\n",
            "Validation set shape: (160, 11) (160,)\n",
            "Test set shape: (160, 11) (160,)\n"
          ]
        }
      ]
    },
    {
      "cell_type": "code",
      "source": [
        "##Q6 Scale the dataset using an appropriate scaling techniqu\n",
        "from sklearn.preprocessing import StandardScaler\n",
        "\n",
        "scaler = StandardScaler()\n",
        "X_train_scaled = scaler.fit_transform(X_train)\n",
        "X_val_scaled = scaler.transform(X_val)\n",
        "X_test_scaled = scaler.transform(X_test)"
      ],
      "metadata": {
        "id": "5JhpitKe_gyH"
      },
      "execution_count": 52,
      "outputs": []
    },
    {
      "cell_type": "code",
      "source": [
        "##7Q7. Design and implement at least two hidden layers and an output layer for the binary categorical variables.\n",
        "from keras.layers import Dense\n",
        "\n",
        "hidden_layer1 = Dense(64, activation='relu', input_shape=(X_train_scaled.shape[1],))\n",
        "hidden_layer2 = Dense(32, activation='relu')\n",
        "output_layer = Dense(1, activation='sigmoid')"
      ],
      "metadata": {
        "id": "UMPguj8pEmoW"
      },
      "execution_count": 53,
      "outputs": []
    },
    {
      "cell_type": "code",
      "source": [
        "##Q8. Create a Sequential model in Keras and add the previously designed layers to it.\n",
        "model = keras.Sequential([\n",
        "    hidden_layer1,\n",
        "    hidden_layer2,\n",
        "    output_layer\n",
        "])"
      ],
      "metadata": {
        "id": "bgVQEpHZEs_C"
      },
      "execution_count": 54,
      "outputs": []
    },
    {
      "cell_type": "code",
      "source": [
        "##Q9\n",
        "model.summary()"
      ],
      "metadata": {
        "colab": {
          "base_uri": "https://localhost:8080/"
        },
        "id": "P9YKSEZMEyg1",
        "outputId": "3882e765-5446-43a0-f4a0-55e662da09c0"
      },
      "execution_count": 55,
      "outputs": [
        {
          "output_type": "stream",
          "name": "stdout",
          "text": [
            "Model: \"sequential_2\"\n",
            "_________________________________________________________________\n",
            " Layer (type)                Output Shape              Param #   \n",
            "=================================================================\n",
            " dense_6 (Dense)             (None, 64)                768       \n",
            "                                                                 \n",
            " dense_7 (Dense)             (None, 32)                2080      \n",
            "                                                                 \n",
            " dense_8 (Dense)             (None, 1)                 33        \n",
            "                                                                 \n",
            "=================================================================\n",
            "Total params: 2881 (11.25 KB)\n",
            "Trainable params: 2881 (11.25 KB)\n",
            "Non-trainable params: 0 (0.00 Byte)\n",
            "_________________________________________________________________\n"
          ]
        }
      ]
    },
    {
      "cell_type": "code",
      "source": [
        "##10Q10. Set the loss function ('binary_crossentropy'), optimizer, and include the accuracy metric in the model\n",
        "model.compile(loss='binary_crossentropy', optimizer='adam', metrics=['accuracy'])"
      ],
      "metadata": {
        "id": "0UaXYgoGE14Z"
      },
      "execution_count": 56,
      "outputs": []
    },
    {
      "cell_type": "code",
      "source": [
        "##Q12. Fit the model to the training data using appropriate batch size and number of epochs\n",
        "history = model.fit(X_train_scaled, y_train, epochs=10, batch_size=32, validation_data=(X_val_scaled, y_val))"
      ],
      "metadata": {
        "colab": {
          "base_uri": "https://localhost:8080/"
        },
        "id": "nRxuZYlbE9BN",
        "outputId": "03b0d8ab-d8c0-4d5a-b126-c0ba966cd82b"
      },
      "execution_count": 57,
      "outputs": [
        {
          "output_type": "stream",
          "name": "stdout",
          "text": [
            "Epoch 1/10\n",
            "40/40 [==============================] - 1s 7ms/step - loss: 0.3669 - accuracy: 0.0055 - val_loss: 0.1392 - val_accuracy: 0.0125\n",
            "Epoch 2/10\n",
            "40/40 [==============================] - 0s 3ms/step - loss: 0.0733 - accuracy: 0.0055 - val_loss: 0.0406 - val_accuracy: 0.0125\n",
            "Epoch 3/10\n",
            "40/40 [==============================] - 0s 3ms/step - loss: 0.0330 - accuracy: 0.0055 - val_loss: 0.0283 - val_accuracy: 0.0125\n",
            "Epoch 4/10\n",
            "40/40 [==============================] - 0s 3ms/step - loss: 0.0269 - accuracy: 0.0055 - val_loss: 0.0254 - val_accuracy: 0.0125\n",
            "Epoch 5/10\n",
            "40/40 [==============================] - 0s 3ms/step - loss: 0.0252 - accuracy: 0.0055 - val_loss: 0.0244 - val_accuracy: 0.0125\n",
            "Epoch 6/10\n",
            "40/40 [==============================] - 0s 3ms/step - loss: 0.0246 - accuracy: 0.0055 - val_loss: 0.0240 - val_accuracy: 0.0125\n",
            "Epoch 7/10\n",
            "40/40 [==============================] - 0s 3ms/step - loss: 0.0243 - accuracy: 0.0055 - val_loss: 0.0237 - val_accuracy: 0.0125\n",
            "Epoch 8/10\n",
            "40/40 [==============================] - 0s 3ms/step - loss: 0.0240 - accuracy: 0.0055 - val_loss: 0.0236 - val_accuracy: 0.0125\n",
            "Epoch 9/10\n",
            "40/40 [==============================] - 0s 3ms/step - loss: 0.0239 - accuracy: 0.0055 - val_loss: 0.0234 - val_accuracy: 0.0125\n",
            "Epoch 10/10\n",
            "40/40 [==============================] - 0s 3ms/step - loss: 0.0237 - accuracy: 0.0055 - val_loss: 0.0233 - val_accuracy: 0.0125\n"
          ]
        }
      ]
    },
    {
      "cell_type": "code",
      "source": [
        "##Q13. Obtain the model's parameters (weights and biases).\n",
        "weights = model.get_weights()\n",
        "print(\"Model weights:\", weights)"
      ],
      "metadata": {
        "colab": {
          "base_uri": "https://localhost:8080/"
        },
        "id": "WQwtaydBFCMJ",
        "outputId": "5cc8fa63-cd58-43c0-f5e4-69a0cff4d129"
      },
      "execution_count": 58,
      "outputs": [
        {
          "output_type": "stream",
          "name": "stdout",
          "text": [
            "Model weights: [array([[ 2.48677060e-01,  2.31357768e-01, -1.41723454e-02,\n",
            "         2.13099830e-02, -2.80073673e-01,  1.20977193e-01,\n",
            "         1.30340844e-01,  1.28665805e-01,  1.46683857e-01,\n",
            "        -5.78035079e-02,  2.10727513e-01,  2.77357072e-01,\n",
            "         1.34900212e-01,  2.07477763e-01, -3.38620767e-02,\n",
            "         2.46084109e-01, -9.90081504e-02,  1.74689844e-01,\n",
            "        -2.90597081e-01,  2.18150660e-01,  9.92720947e-02,\n",
            "         1.00027723e-02,  7.03458861e-02,  1.80218756e-01,\n",
            "         2.95802146e-01, -1.83887020e-01, -2.51112074e-01,\n",
            "         9.45774838e-02, -1.51893809e-01,  2.30198666e-01,\n",
            "         2.10278228e-01,  2.62904793e-01,  3.93426605e-02,\n",
            "        -3.83874178e-02,  2.06937179e-01,  1.76763535e-01,\n",
            "         4.97037880e-02, -1.03619754e-01,  6.69368058e-02,\n",
            "         2.52450824e-01, -2.89247222e-02, -1.05378009e-01,\n",
            "         2.04751007e-02, -2.82710403e-01,  6.67230971e-03,\n",
            "         2.11524721e-02, -5.73057421e-02,  2.62542695e-01,\n",
            "        -1.17065199e-01,  1.14122331e-01,  2.05958977e-01,\n",
            "         2.92366624e-01, -8.76441449e-02, -2.29342163e-01,\n",
            "        -3.82629409e-02,  2.34142840e-02, -1.65266678e-01,\n",
            "         2.80450672e-01, -3.15425843e-01, -3.20594102e-01,\n",
            "        -3.12734172e-02,  1.56730413e-01, -3.22495788e-01,\n",
            "         6.28413036e-02],\n",
            "       [-1.40324995e-01,  1.03603210e-02, -2.45381579e-01,\n",
            "         4.06724289e-02, -6.09903894e-02, -2.45466709e-01,\n",
            "         4.07426395e-02,  7.90804178e-02, -2.64487594e-01,\n",
            "        -2.27604702e-01, -3.14040706e-02, -3.47787328e-02,\n",
            "         9.67895687e-02,  2.68619567e-01,  1.94269270e-01,\n",
            "         3.37868207e-03, -1.82736889e-01,  9.71136615e-02,\n",
            "        -2.74553508e-01,  1.37162700e-01,  1.92550287e-01,\n",
            "         8.03505480e-02, -1.36277005e-01,  3.48079726e-02,\n",
            "        -5.87797090e-02, -2.81970594e-02,  2.77444243e-01,\n",
            "         2.27512598e-01,  3.09018612e-01, -2.20272377e-01,\n",
            "         9.94133204e-03,  2.95022011e-01, -5.37913628e-02,\n",
            "        -1.26437680e-03,  1.51598543e-01, -1.87394358e-02,\n",
            "        -2.58408040e-01, -2.19244465e-01,  1.62628800e-01,\n",
            "         9.66086313e-02,  2.05266640e-01, -1.69889733e-01,\n",
            "        -8.17860961e-02, -2.89797306e-01,  1.40496371e-02,\n",
            "        -1.13985196e-01, -1.17109612e-01,  6.03089593e-02,\n",
            "        -3.56429070e-02,  1.40291870e-01,  1.56303402e-02,\n",
            "         1.46040618e-01, -1.25896409e-01, -1.08851276e-01,\n",
            "         1.07889898e-01, -2.29092389e-01,  2.08274603e-01,\n",
            "         2.45209262e-01, -1.92680523e-01,  1.70535579e-01,\n",
            "        -1.37537822e-01, -2.31468096e-01,  2.37083301e-01,\n",
            "         1.44816831e-01],\n",
            "       [ 2.84211367e-01,  4.99708243e-02, -1.79129213e-01,\n",
            "         2.41022021e-01, -1.07486010e-01,  1.91587240e-01,\n",
            "         3.19948234e-02,  2.37311333e-01,  1.28181159e-01,\n",
            "         1.95812955e-01,  2.77346462e-01,  1.94344878e-01,\n",
            "        -1.51582778e-01, -3.05875301e-01, -1.17429823e-01,\n",
            "         3.06081891e-01, -1.63568005e-01,  1.55659109e-01,\n",
            "         4.75628227e-02,  1.24108255e-01, -2.05592021e-01,\n",
            "         2.41664827e-01, -6.39421120e-02,  3.91456485e-03,\n",
            "         6.93287104e-02, -1.50390178e-01, -6.66088685e-02,\n",
            "        -9.58096888e-03,  1.03164911e-01, -2.25797087e-01,\n",
            "        -2.66957104e-01,  5.56786172e-02,  1.18954912e-01,\n",
            "        -2.11394772e-01, -3.27762365e-01, -2.03738272e-01,\n",
            "        -9.05124620e-02,  2.07365602e-01, -2.30376720e-01,\n",
            "         2.49352619e-01,  2.45694399e-01,  5.11278808e-02,\n",
            "        -2.03006893e-01, -1.23128019e-01, -2.15030849e-01,\n",
            "         1.52034357e-01,  2.79244274e-01, -1.54850215e-01,\n",
            "         1.46482021e-01, -2.31526941e-02,  9.89767760e-02,\n",
            "        -2.52272040e-01, -2.16412604e-01, -6.73887953e-02,\n",
            "        -3.08380634e-01,  9.09323990e-02,  2.07976416e-01,\n",
            "        -7.52039403e-02, -5.71537353e-02, -2.21613213e-01,\n",
            "        -2.62254268e-01, -1.93328664e-01, -3.52177292e-01,\n",
            "         2.26488128e-01],\n",
            "       [-1.35180298e-02, -1.00974739e-01, -2.27108315e-01,\n",
            "         1.23390079e-01, -8.47419724e-02, -2.78870314e-02,\n",
            "         4.63188775e-02,  2.11278319e-01, -2.13044539e-01,\n",
            "        -2.43496612e-01,  2.07026184e-01, -2.10471690e-01,\n",
            "        -1.33561119e-01,  3.14856268e-04, -7.07308799e-02,\n",
            "         8.07397589e-02, -1.09601863e-01,  1.37078956e-01,\n",
            "         3.05082332e-02,  2.55439401e-01, -2.83533722e-01,\n",
            "         1.21355258e-01, -2.06813067e-02,  7.83494785e-02,\n",
            "        -1.78072900e-01,  2.74196029e-01, -2.68885374e-01,\n",
            "         6.22920431e-02,  1.40018567e-01, -2.52931327e-01,\n",
            "         1.79955319e-01,  2.14183740e-02, -3.07057172e-01,\n",
            "        -2.12698415e-01, -7.43360743e-02,  1.09122589e-01,\n",
            "         2.36726925e-01,  2.62743413e-01, -2.22420231e-01,\n",
            "         1.38997287e-02, -1.87732831e-01,  1.87728912e-01,\n",
            "         1.16981804e-01,  3.14140648e-01, -1.49300128e-01,\n",
            "         8.70599449e-02,  2.24704891e-01,  2.85675317e-01,\n",
            "        -7.04159066e-02, -8.88875052e-02, -1.82285815e-01,\n",
            "         1.97231397e-01, -9.74158719e-02,  2.34347135e-01,\n",
            "        -3.05181265e-01, -1.16398185e-01, -2.50802010e-01,\n",
            "        -2.74862885e-01, -1.90088168e-01, -2.95362920e-01,\n",
            "        -6.69234991e-02, -3.12258512e-01, -1.69568971e-01,\n",
            "        -2.60691643e-01],\n",
            "       [ 1.07466213e-01,  2.27274150e-01,  2.22063646e-01,\n",
            "         6.26795590e-02,  1.10756725e-01, -2.45366827e-01,\n",
            "         1.69472486e-01, -2.57446080e-01,  1.62801385e-01,\n",
            "         1.16943538e-01, -1.75763473e-01, -1.23351477e-01,\n",
            "        -1.50030032e-01,  1.23996302e-01, -1.83696281e-02,\n",
            "         2.16344982e-01,  1.44818604e-01, -1.94121569e-01,\n",
            "        -1.87975913e-01,  2.46582162e-02,  1.45729393e-01,\n",
            "         1.15505613e-01, -2.30026409e-01, -3.59778777e-02,\n",
            "         1.02746248e-01, -2.56667644e-01, -1.44286275e-01,\n",
            "         7.05989748e-02,  7.45203421e-02, -5.17931730e-02,\n",
            "         2.79478848e-01, -1.78605124e-01, -2.00040396e-02,\n",
            "        -3.69799845e-02, -2.46084407e-01, -1.65252075e-01,\n",
            "         1.08795308e-01,  1.42468080e-01,  7.67982900e-02,\n",
            "        -2.23206818e-01,  9.47019756e-02, -1.89304218e-01,\n",
            "         7.69854570e-03, -1.13547333e-01, -4.24129516e-02,\n",
            "         2.81641155e-01, -1.72556207e-01,  1.85902029e-01,\n",
            "         1.66447431e-01, -2.94250369e-01, -3.32974792e-01,\n",
            "        -2.20556498e-01,  6.91535994e-02,  1.83849916e-01,\n",
            "        -3.19455981e-01,  7.79823810e-02, -9.28046703e-02,\n",
            "         3.39804180e-02, -2.86733717e-01, -5.17016612e-02,\n",
            "        -1.79380640e-01,  3.92035432e-02, -3.03758144e-01,\n",
            "         1.47586361e-01],\n",
            "       [-4.22311239e-02, -2.31268868e-01,  1.14308454e-01,\n",
            "         1.13434963e-01, -2.32899264e-01,  1.91629916e-01,\n",
            "        -1.92386866e-01,  1.48579195e-01,  2.66189247e-01,\n",
            "        -1.10242300e-01, -2.20306143e-01,  1.57798856e-01,\n",
            "         1.83816701e-01, -2.83192992e-01, -3.60458232e-02,\n",
            "         1.88218683e-01, -1.71398386e-01, -1.74962848e-01,\n",
            "         2.05814868e-01, -1.04732804e-01,  6.62795678e-02,\n",
            "         1.04172558e-01,  2.49035150e-01, -2.00126722e-01,\n",
            "         1.63847134e-01, -1.79051962e-02, -1.40240625e-01,\n",
            "        -1.37706697e-01, -2.98850648e-02, -1.53343156e-02,\n",
            "        -2.02701956e-01,  5.92911653e-02, -1.71891943e-01,\n",
            "        -3.24677765e-01,  1.44702271e-01,  1.01196207e-01,\n",
            "         2.19897836e-01,  2.86968946e-01, -1.32842720e-01,\n",
            "         1.85744852e-01,  9.06258151e-02, -1.96387321e-01,\n",
            "        -2.43784189e-01, -1.85687378e-01,  1.28691852e-01,\n",
            "         2.07585916e-01, -1.37943149e-01, -7.48421848e-02,\n",
            "         1.13741882e-01, -1.28544211e-01,  2.71012098e-01,\n",
            "        -1.22510374e-01, -1.68438897e-01,  3.85165215e-02,\n",
            "        -5.27886525e-02, -2.13754326e-01,  2.00134203e-01,\n",
            "         3.11502546e-01, -7.17977062e-02, -3.70371759e-01,\n",
            "         2.85131305e-01,  1.59291960e-02,  9.65243578e-02,\n",
            "        -3.22598457e-01],\n",
            "       [-2.49205351e-01, -1.91796888e-02, -1.59756374e-02,\n",
            "        -4.32952158e-02, -1.28513202e-01, -5.20258099e-02,\n",
            "         1.86429501e-01, -2.02397555e-02, -2.17408821e-01,\n",
            "        -1.68989524e-01,  1.13437623e-02,  2.27243349e-01,\n",
            "        -7.06567913e-02,  1.02862597e-01, -1.10547813e-02,\n",
            "        -1.53396279e-01, -1.30690739e-01,  2.28574604e-01,\n",
            "         1.72623917e-01, -4.66333553e-02,  3.08790743e-01,\n",
            "        -2.86782980e-01, -2.00776011e-01,  1.23381071e-01,\n",
            "         8.84220097e-03,  9.10340697e-02, -2.55262047e-01,\n",
            "         2.68504560e-01,  1.55038089e-01,  1.33548394e-01,\n",
            "        -2.35546544e-01, -1.27835423e-01, -1.50146991e-01,\n",
            "        -2.61671484e-01, -3.02333117e-01,  8.37869197e-02,\n",
            "         4.42120880e-02,  2.52171606e-01,  3.13693397e-02,\n",
            "        -3.40587460e-02,  7.58362934e-02,  4.48796637e-02,\n",
            "         6.74026459e-02, -1.06387828e-02,  1.28996581e-01,\n",
            "        -1.61481321e-01,  1.36476681e-01, -2.49758199e-01,\n",
            "        -2.37661704e-01, -1.80556819e-01,  1.46624744e-01,\n",
            "        -5.01534455e-02, -9.77921858e-02, -1.29681483e-01,\n",
            "         1.30222291e-01,  1.30470082e-01,  2.37283304e-01,\n",
            "         2.14574412e-01,  3.52392625e-03,  2.77599804e-02,\n",
            "        -1.54889032e-01, -2.99623460e-01, -1.35332197e-01,\n",
            "        -7.75697781e-03],\n",
            "       [ 6.87894225e-02, -1.53489187e-01,  2.33346507e-01,\n",
            "         9.58821401e-02,  1.61758751e-01, -5.16112149e-03,\n",
            "         1.97610095e-01, -1.41680256e-01, -1.71671405e-01,\n",
            "        -2.67236650e-01,  1.45341888e-01,  1.19314626e-01,\n",
            "         1.54555604e-01,  1.78848237e-01,  2.32765526e-01,\n",
            "         7.64868632e-02, -7.83556178e-02, -5.06037809e-02,\n",
            "         1.40766129e-01, -1.32781774e-01,  3.19073260e-01,\n",
            "         1.17721163e-01, -1.04589025e-02, -2.32825726e-01,\n",
            "        -3.22854102e-01,  2.53755987e-01,  2.22260833e-01,\n",
            "        -2.03970000e-02,  2.57045686e-01, -2.12062463e-01,\n",
            "        -5.41258045e-03, -5.34833781e-02,  2.46114478e-01,\n",
            "         1.05108982e-02,  9.47014764e-02, -4.03758511e-02,\n",
            "         2.97379017e-01, -2.77154088e-01, -1.77570924e-01,\n",
            "        -2.24193931e-02, -2.99567223e-01, -1.67792857e-01,\n",
            "         2.04743236e-01,  1.70505956e-01,  6.97739944e-02,\n",
            "         9.94900167e-02,  1.74714595e-01,  9.16645005e-02,\n",
            "        -9.97427553e-02,  1.48439780e-01, -2.99402833e-01,\n",
            "        -3.10141058e-03,  2.13377565e-01,  4.37755361e-02,\n",
            "        -3.89052904e-03, -3.54101397e-02,  1.74386084e-01,\n",
            "        -1.16229832e-01, -3.63113433e-02,  2.43463531e-01,\n",
            "         8.79939273e-02, -1.08119436e-01,  2.36923993e-01,\n",
            "        -5.54024465e-02],\n",
            "       [-2.68989950e-01, -4.48926762e-02, -1.27919316e-01,\n",
            "        -2.16834724e-01,  1.95071191e-01, -1.60290825e-03,\n",
            "         1.32832721e-01, -4.82082441e-02,  6.41123131e-02,\n",
            "        -2.51686335e-01,  2.08843037e-01, -6.95805252e-02,\n",
            "         2.40700766e-01,  1.80924580e-01, -2.16804251e-01,\n",
            "         6.28419220e-02,  1.22301956e-03, -9.68054682e-02,\n",
            "         1.91642255e-01,  3.50085162e-02,  8.67144763e-03,\n",
            "        -2.50346899e-01,  9.15211737e-02,  2.28704169e-01,\n",
            "         2.21380591e-01,  2.09307671e-01, -2.18686298e-01,\n",
            "         6.59374297e-02,  1.76350586e-02,  1.95796657e-02,\n",
            "         5.07542156e-02,  1.97325379e-01, -3.07047606e-01,\n",
            "         2.59815335e-01, -9.72689986e-02, -6.31566718e-02,\n",
            "         3.13018523e-02,  2.73600549e-01, -2.76026636e-01,\n",
            "        -3.50338519e-02,  4.61191833e-02, -2.30889827e-01,\n",
            "        -9.83766988e-02, -1.43115193e-01, -2.08867356e-01,\n",
            "        -2.82476068e-01,  1.91044912e-01,  1.18265823e-01,\n",
            "         2.98145384e-01,  3.77996862e-02, -2.98043132e-01,\n",
            "        -1.65725872e-02,  1.65626392e-01, -8.95188004e-02,\n",
            "        -8.09476823e-02,  1.39169171e-01, -1.68394912e-02,\n",
            "        -5.69591224e-02, -1.02746591e-01,  1.04398876e-01,\n",
            "        -1.43948600e-01,  7.58495852e-02, -9.63589549e-02,\n",
            "         2.45146900e-02],\n",
            "       [ 2.79326379e-01, -9.68714580e-02, -3.50654393e-01,\n",
            "         1.76632404e-01,  2.70732671e-01, -6.22824579e-02,\n",
            "         5.23017757e-02,  1.12763800e-01,  2.70006090e-01,\n",
            "         2.89308459e-01,  1.90188959e-01, -2.70640522e-01,\n",
            "        -6.09259447e-03,  1.64620385e-01,  7.50273839e-03,\n",
            "        -1.02012798e-01,  2.69761562e-01, -1.46848083e-01,\n",
            "         1.31991738e-02,  2.10434899e-01,  6.18988648e-02,\n",
            "        -1.68400243e-01, -9.72359180e-02, -5.37807643e-02,\n",
            "        -2.51289308e-01, -2.05600470e-01,  9.38714892e-02,\n",
            "        -3.36071432e-01, -3.56251299e-01, -3.01842749e-01,\n",
            "         5.04903197e-02, -9.59479734e-02, -2.45183930e-01,\n",
            "         2.58139461e-01,  1.59486473e-01,  2.43577734e-01,\n",
            "        -3.09808135e-01, -2.99515069e-01, -1.59078881e-01,\n",
            "        -1.86946094e-01,  1.80304989e-01,  1.09575212e-01,\n",
            "         1.50065139e-01, -2.12924317e-01,  1.37664497e-01,\n",
            "         2.22522467e-02,  3.92722450e-02, -3.32342058e-01,\n",
            "         3.07861507e-01, -3.13051075e-01, -2.97128320e-01,\n",
            "        -2.83680826e-01,  7.01506808e-02, -1.57576546e-01,\n",
            "         2.22083166e-01,  1.50370121e-01, -1.25612870e-01,\n",
            "        -1.51487574e-01, -1.38602490e-02, -1.09531641e-01,\n",
            "         2.96462774e-01, -2.83319682e-01, -1.84474476e-02,\n",
            "        -1.52066678e-01],\n",
            "       [-1.65452674e-01,  1.67678371e-01, -1.76017433e-01,\n",
            "        -2.22372711e-01,  1.99864089e-01,  1.39439270e-01,\n",
            "        -1.75146442e-02, -2.79503703e-01, -2.83060782e-02,\n",
            "         1.19213760e-01, -5.42862341e-02, -1.80032834e-01,\n",
            "        -6.94910809e-02, -2.47750744e-01,  2.77834743e-01,\n",
            "         1.67308822e-01,  2.57737488e-01, -2.06894815e-01,\n",
            "         3.39886546e-01,  6.85686246e-02, -1.46561384e-01,\n",
            "        -2.98781306e-01,  1.31966308e-01,  1.17601871e-01,\n",
            "         1.64145548e-02, -2.36296460e-01, -2.91053176e-01,\n",
            "        -1.82926327e-01,  2.20739365e-01, -6.53296933e-02,\n",
            "         2.53480852e-01,  2.59301990e-01, -1.07809648e-01,\n",
            "        -1.57185365e-02,  3.14438641e-01, -5.41337617e-02,\n",
            "        -2.71679312e-01,  2.81727523e-01, -3.54465432e-02,\n",
            "         1.03742786e-01,  2.00109974e-01, -2.44749799e-01,\n",
            "         1.87676296e-01,  2.21472979e-02, -2.77826428e-01,\n",
            "        -9.73498970e-02,  2.62077600e-01,  3.19342732e-01,\n",
            "         4.75988872e-02, -3.19886595e-01, -3.37788850e-01,\n",
            "        -3.36142480e-01, -2.35232517e-01, -1.89515293e-01,\n",
            "         1.58549041e-01, -8.62203240e-02, -1.24817669e-01,\n",
            "        -1.79440781e-01,  3.46432142e-02,  3.05877328e-02,\n",
            "         1.88112587e-01, -2.41666764e-01,  4.20444161e-02,\n",
            "         7.17288926e-02]], dtype=float32), array([ 0.06690664,  0.07250525,  0.07806597, -0.03601307,  0.07309248,\n",
            "        0.08806841, -0.02828976,  0.07886649,  0.08584344,  0.08375244,\n",
            "        0.02720672,  0.07588197, -0.04530376,  0.10532116,  0.10000762,\n",
            "        0.0701792 ,  0.11373641,  0.01102011,  0.09324618,  0.00243624,\n",
            "        0.08074278,  0.09809026, -0.05079129,  0.09549385,  0.08727814,\n",
            "        0.02836961,  0.03820987,  0.06639098,  0.08695561,  0.10905412,\n",
            "        0.08187137,  0.08294973,  0.05998817,  0.07910042,  0.09139797,\n",
            "       -0.0413627 ,  0.07922872,  0.10118964,  0.10473679, -0.03476139,\n",
            "        0.0884143 , -0.03891793, -0.04711569,  0.11117702,  0.06599967,\n",
            "        0.00874455,  0.09722476,  0.088773  ,  0.09184896,  0.07837954,\n",
            "        0.09771479,  0.08544219, -0.045947  , -0.01894761,  0.08834655,\n",
            "        0.03702076,  0.06474011,  0.08896422,  0.07273432,  0.10549567,\n",
            "        0.10026597,  0.10484582,  0.12098383,  0.08467153], dtype=float32), array([[-0.15250485, -0.20859677,  0.12076902, ...,  0.20213126,\n",
            "        -0.13962232, -0.04803758],\n",
            "       [-0.11964136, -0.16075473,  0.28017986, ..., -0.10281433,\n",
            "         0.15652256,  0.21069175],\n",
            "       [ 0.21625862, -0.19780172, -0.04891628, ...,  0.17700765,\n",
            "        -0.27375743, -0.2564787 ],\n",
            "       ...,\n",
            "       [-0.24300987, -0.14090018, -0.15449561, ..., -0.0179945 ,\n",
            "         0.21387677, -0.04656864],\n",
            "       [ 0.10111333, -0.12541649,  0.02082079, ...,  0.16371262,\n",
            "         0.17898242,  0.14485219],\n",
            "       [ 0.02798638, -0.09165177, -0.16510743, ...,  0.03239831,\n",
            "         0.02113197,  0.20910783]], dtype=float32), array([-0.03054072, -0.0084538 ,  0.08088288, -0.02173088,  0.0660512 ,\n",
            "        0.10417499, -0.03487493, -0.03526958, -0.02839589, -0.03290752,\n",
            "       -0.0308956 ,  0.06441743,  0.1170872 ,  0.06720477,  0.09275007,\n",
            "        0.09382278, -0.02894696,  0.07022453,  0.07962494, -0.02452216,\n",
            "        0.07085176,  0.06243071, -0.03848146,  0.08865365,  0.10292199,\n",
            "       -0.02886439, -0.00434225,  0.08228257,  0.09789003, -0.03925911,\n",
            "       -0.03554764, -0.02510937], dtype=float32), array([[-0.348964  ],\n",
            "       [ 0.01442101],\n",
            "       [ 0.17366073],\n",
            "       [-0.3779654 ],\n",
            "       [ 0.48348   ],\n",
            "       [ 0.32739925],\n",
            "       [-0.26997173],\n",
            "       [-0.39599407],\n",
            "       [-0.14851989],\n",
            "       [-0.3411599 ],\n",
            "       [-0.05465213],\n",
            "       [ 0.31448308],\n",
            "       [ 0.17627516],\n",
            "       [ 0.35558543],\n",
            "       [ 0.18958072],\n",
            "       [ 0.11501482],\n",
            "       [-0.22695944],\n",
            "       [ 0.4701924 ],\n",
            "       [ 0.30536714],\n",
            "       [-0.17015252],\n",
            "       [ 0.17293954],\n",
            "       [ 0.26236787],\n",
            "       [-0.30297184],\n",
            "       [ 0.4617429 ],\n",
            "       [ 0.12250251],\n",
            "       [-0.3865638 ],\n",
            "       [ 0.01835296],\n",
            "       [ 0.14409703],\n",
            "       [ 0.08789434],\n",
            "       [-0.15574753],\n",
            "       [-0.26390305],\n",
            "       [-0.05495667]], dtype=float32), array([0.05666613], dtype=float32)]\n"
          ]
        }
      ]
    },
    {
      "cell_type": "code",
      "source": [
        "##Q14. Store the model's training history as a Pandas DataFrame\n",
        "import pandas as pd\n",
        "\n",
        "history_df = pd.DataFrame(history.history)\n",
        "print(\"Training history:\", history_df.head())"
      ],
      "metadata": {
        "colab": {
          "base_uri": "https://localhost:8080/"
        },
        "id": "YfjvEeQyF6ML",
        "outputId": "f99da8eb-55dc-42ea-9d45-ae484c6c75cd"
      },
      "execution_count": 59,
      "outputs": [
        {
          "output_type": "stream",
          "name": "stdout",
          "text": [
            "Training history:        loss  accuracy  val_loss  val_accuracy\n",
            "0  0.366856  0.005473  0.139169        0.0125\n",
            "1  0.073327  0.005473  0.040564        0.0125\n",
            "2  0.033001  0.005473  0.028276        0.0125\n",
            "3  0.026910  0.005473  0.025426        0.0125\n",
            "4  0.025233  0.005473  0.024448        0.0125\n"
          ]
        }
      ]
    },
    {
      "cell_type": "code",
      "source": [
        "##Q15. Plot the training history (e.g., accuracy and loss) using suitable visualization techniques.\n",
        "import matplotlib.pyplot as plt\n",
        "\n",
        "plt.plot(history_df['accuracy'], label='Training Accuracy')\n",
        "plt.plot(history_df['val_accuracy'], label='Validation Accuracy')\n",
        "plt.plot(history_df['loss'], label='Training Loss')\n",
        "plt.plot(history_df['val_loss'], label='Validation Loss')\n",
        "plt.legend()\n",
        "plt.show()"
      ],
      "metadata": {
        "colab": {
          "base_uri": "https://localhost:8080/",
          "height": 430
        },
        "id": "VKfj7sM3F_Jj",
        "outputId": "47196aac-4101-4e36-b49b-cf24fab3ff2d"
      },
      "execution_count": 60,
      "outputs": [
        {
          "output_type": "display_data",
          "data": {
            "text/plain": [
              "<Figure size 640x480 with 1 Axes>"
            ],
            "image/png": "[encoded data removed]"
          },
          "metadata": {}
        }
      ]
    },
    {
      "cell_type": "code",
      "source": [
        "import matplotlib.pyplot as plt\n",
        "\n",
        "plt.figure(figsize=(12, 5))\n",
        "\n",
        "plt.subplot(1, 2, 1)\n",
        "plt.plot(history_df['accuracy'], label='Train Accuracy')\n",
        "plt.plot(history_df['val_accuracy'], label='Validation Accuracy')\n",
        "plt.xlabel('Epochs')\n",
        "plt.ylabel('Accuracy')\n",
        "plt.legend()\n",
        "plt.title('Accuracy over Epochs')\n",
        "\n",
        "plt.subplot(1, 2, 2)\n",
        "plt.plot(history_df['loss'], label='Train Loss')\n",
        "plt.plot(history_df['val_loss'], label='Validation Loss')\n",
        "plt.xlabel('Epochs')\n",
        "plt.ylabel('Loss')\n",
        "plt.legend()\n",
        "plt.title('Loss over Epochs')\n",
        "\n",
        "plt.show()\n"
      ],
      "metadata": {
        "colab": {
          "base_uri": "https://localhost:8080/",
          "height": 463
        },
        "id": "FljH9MdvGKg8",
        "outputId": "f38ba673-2757-4ec6-a4e1-46a5b8c823e4"
      },
      "execution_count": 61,
      "outputs": [
        {
          "output_type": "display_data",
          "data": {
            "text/plain": [
              "<Figure size 1200x500 with 2 Axes>"
            ],
            "image/png": "[encoded data removed]"
          },
          "metadata": {}
        }
      ]
    },
    {
      "cell_type": "code",
      "source": [
        "##Q16. Evaluate the model's performance using the test dataset and report relevant metrics.\n",
        "test_loss, test_acc = model.evaluate(X_test_scaled, y_test)\n",
        "print(\"Test accuracy:\", test_acc)\n",
        "print(\"Test loss:\", test_loss)"
      ],
      "metadata": {
        "colab": {
          "base_uri": "https://localhost:8080/"
        },
        "id": "VWBUeLscGQEU",
        "outputId": "22f3007e-6cb1-4c6a-884c-f6b30331e817"
      },
      "execution_count": 62,
      "outputs": [
        {
          "output_type": "stream",
          "name": "stdout",
          "text": [
            "5/5 [==============================] - 0s 5ms/step - loss: 0.0253 - accuracy: 0.0063\n",
            "Test accuracy: 0.0062500000931322575\n",
            "Test loss: 0.025316959246993065\n"
          ]
        }
      ]
    },
    {
      "cell_type": "code",
      "source": [],
      "metadata": {
        "id": "F0xt-20sGkvB"
      },
      "execution_count": null,
      "outputs": []
    }
  ]
}